{
 "cells": [
  {
   "cell_type": "code",
   "execution_count": null,
   "metadata": {},
   "outputs": [],
   "source": [
    "import torch.nn as nn\n",
    "from ultralytics.nn.tasks import DetectionModel\n",
    "from ultralytics.models.yolo.detect import DetectionTrainer\n",
    "\n",
    "# --- Custom Model with Cross-Entropy Loss ---\n",
    "\n",
    "class MyCustomModel(DetectionModel):\n",
    "    def init_criterion(self, hyp, model):\n",
    "        \"\"\"\n",
    "        Initializes the loss function with cross-entropy component.\n",
    "\n",
    "        Args:\n",
    "            hyp (dict): Hyperparameters.\n",
    "            model (nn.Module): The detection model.\n",
    "\n",
    "        Returns:\n",
    "            None\n",
    "        \"\"\"\n",
    "        super().init_criterion(hyp, model)  # YOLOv8 loss\n",
    "\n",
    "        # Cross-entropy loss function\n",
    "        self.cross_entropy_loss = nn.CrossEntropyLoss()\n",
    "\n",
    "        # Define a new combined loss function\n",
    "        def custom_loss_fn(p, targets):  # p: predictions, targets: ground truth\n",
    "            lbox, lobj, lcls = self.criterion(p, targets)  # YOLOv8 loss components\n",
    "            lcls += self.cross_entropy_loss(p[1].view(-1, model.nc), targets[:, 0].long()) * hyp.get('ce_weight', 0.1)  # Add weighted CE loss\n",
    "            return lbox + lobj + lcls \n",
    "\n",
    "        # Replace the original criterion's loss function with the custom one\n",
    "        self.criterion = custom_loss_fn \n",
    "    \n",
    "    def forward(self, x, augment=False, profile=False, visualize=False):\n",
    "        return super().forward(x, augment, profile, visualize)\n",
    "\n",
    "# --- Training ---\n",
    "\n",
    "# Modify loss function within the trainer\n",
    "class CustomTrainer(DetectionTrainer):\n",
    "    def get_model(self, cfg=None, weights=None, verbose=True):\n",
    "        hyp = self.args.hyp if hasattr(self.args, 'hyp') else {}\n",
    "        model = MyCustomModel(cfg, nc=6)\n",
    "        model.init_criterion(hyp, model)\n",
    "        return model\n",
    "    \n",
    "args = dict(model='yolov8n.pt', data='euroshop.yaml', epochs=3)\n",
    "trainer = CustomTrainer(overrides=args)\n",
    "trainer.train()\n",
    "\n"
   ]
  },
  {
   "cell_type": "code",
   "execution_count": null,
   "metadata": {},
   "outputs": [],
   "source": []
  },
  {
   "cell_type": "code",
   "execution_count": null,
   "metadata": {},
   "outputs": [],
   "source": []
  }
 ],
 "metadata": {
  "language_info": {
   "name": "python"
  }
 },
 "nbformat": 4,
 "nbformat_minor": 2
}
